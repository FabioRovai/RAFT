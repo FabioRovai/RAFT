{
  "nbformat": 4,
  "nbformat_minor": 5,
  "metadata": {
    "kernelspec": {
      "display_name": "Python 3",
      "language": "python",
      "name": "python3"
    },
    "language_info": {
      "codemirror_mode": {
        "name": "ipython",
        "version": 3
      },
      "file_extension": ".py",
      "mimetype": "text/x-python",
      "name": "python",
      "nbconvert_exporter": "python",
      "pygments_lexer": "ipython3",
      "version": "3.8.8"
    },
    "colab": {
      "name": "Policy Hack.ipynb",
      "provenance": [],
      "include_colab_link": true
    }
  },
  "cells": [
    {
      "cell_type": "markdown",
      "metadata": {
        "id": "view-in-github",
        "colab_type": "text"
      },
      "source": [
        "<a href=\"https://colab.research.google.com/github/FabioRovai/RAFT/blob/main/Policy_Hack.ipynb\" target=\"_parent\"><img src=\"https://colab.research.google.com/assets/colab-badge.svg\" alt=\"Open In Colab\"/></a>"
      ]
    },
    {
      "cell_type": "markdown",
      "metadata": {
        "id": "f74eee3f"
      },
      "source": [
        "Questions we are trying to answer  \n",
        "1. Type of requests by country  \n",
        "2. Number of requests by country  \n",
        "3. Trend over time of notices by country breakdown by # and type of request "
      ],
      "id": "f74eee3f"
    },
    {
      "cell_type": "code",
      "metadata": {
        "id": "bUgrZDAY5MEX"
      },
      "source": [
        "# Generalizing enviroment\n",
        "!wget https://www.dropbox.com/s/74o2439vl4f705d/internet_freedom_scores.csv --quiet"
      ],
      "id": "bUgrZDAY5MEX",
      "execution_count": 1,
      "outputs": []
    },
    {
      "cell_type": "code",
      "metadata": {
        "id": "MvSolyxe-Mb6"
      },
      "source": [
        "!pip install gdown --q"
      ],
      "id": "MvSolyxe-Mb6",
      "execution_count": 2,
      "outputs": []
    },
    {
      "cell_type": "code",
      "metadata": {
        "colab": {
          "base_uri": "https://localhost:8080/",
          "height": 35
        },
        "id": "Jd1_2OpI-O2S",
        "outputId": "42f07be0-0210-4e7b-b38a-1a37c7f83eaf"
      },
      "source": [
        "import gdown\n",
        "\n",
        "url = 'https://drive.google.com/u/0/uc?export=download&confirm=dxYX&id=1Did693v60aQsIy3y02jYopLqQ9dX3T13'\n",
        "output = 'goverement_requests.zip'\n",
        "gdown.download(url, output, quiet=True)\n",
        "\n"
      ],
      "id": "Jd1_2OpI-O2S",
      "execution_count": 3,
      "outputs": [
        {
          "output_type": "execute_result",
          "data": {
            "application/vnd.google.colaboratory.intrinsic+json": {
              "type": "string"
            },
            "text/plain": [
              "'goverement_requests.zip'"
            ]
          },
          "metadata": {},
          "execution_count": 3
        }
      ]
    },
    {
      "cell_type": "code",
      "metadata": {
        "id": "2WHMtUJ1_10b"
      },
      "source": [
        "!mkdir goverement_requests\n",
        "!mkdir Hack"
      ],
      "id": "2WHMtUJ1_10b",
      "execution_count": 4,
      "outputs": []
    },
    {
      "cell_type": "code",
      "metadata": {
        "colab": {
          "base_uri": "https://localhost:8080/",
          "height": 35
        },
        "id": "V3xjjjYiApDJ",
        "outputId": "30cbee96-60dc-4e01-e4bc-90ffbbb905b1"
      },
      "source": [
        "import os\n",
        "import shutil\n",
        "#Storing ZIP and unzip in 2 separated folders\n",
        "shutil.move(\"/content/goverement_requests.zip\", \"/content/goverement_requests\")"
      ],
      "id": "V3xjjjYiApDJ",
      "execution_count": 5,
      "outputs": [
        {
          "output_type": "execute_result",
          "data": {
            "application/vnd.google.colaboratory.intrinsic+json": {
              "type": "string"
            },
            "text/plain": [
              "'/content/goverement_requests/goverement_requests.zip'"
            ]
          },
          "metadata": {},
          "execution_count": 5
        }
      ]
    },
    {
      "cell_type": "code",
      "metadata": {
        "id": "thowj0TE-DYZ"
      },
      "source": [
        "import zipfile\n",
        "with zipfile.ZipFile('/content/goverement_requests/goverement_requests.zip', 'r') as zip_ref:\n",
        "    zip_ref.extractall('/content/Hack') "
      ],
      "id": "thowj0TE-DYZ",
      "execution_count": 6,
      "outputs": []
    },
    {
      "cell_type": "code",
      "metadata": {
        "scrolled": true,
        "id": "cfeb5117",
        "colab": {
          "base_uri": "https://localhost:8080/",
          "height": 353
        },
        "outputId": "61aa4b95-0acb-4cb9-8757-4546fb932035"
      },
      "source": [
        "import json\n",
        "\n",
        "path = \"/content/Hack\"\n",
        "\n",
        "f = open(path +\"/notices.json\",encoding=\"utf8\")\n",
        "\n",
        "data = json.loads(f.read())\n"
      ],
      "id": "cfeb5117",
      "execution_count": 7,
      "outputs": [
        {
          "output_type": "error",
          "ename": "JSONDecodeError",
          "evalue": "ignored",
          "traceback": [
            "\u001b[0;31m---------------------------------------------------------------------------\u001b[0m",
            "\u001b[0;31mJSONDecodeError\u001b[0m                           Traceback (most recent call last)",
            "\u001b[0;32m<ipython-input-7-21df452b6edf>\u001b[0m in \u001b[0;36m<module>\u001b[0;34m()\u001b[0m\n\u001b[1;32m      5\u001b[0m \u001b[0mf\u001b[0m \u001b[0;34m=\u001b[0m \u001b[0mopen\u001b[0m\u001b[0;34m(\u001b[0m\u001b[0mpath\u001b[0m \u001b[0;34m+\u001b[0m\u001b[0;34m\"/notices.json\"\u001b[0m\u001b[0;34m,\u001b[0m\u001b[0mencoding\u001b[0m\u001b[0;34m=\u001b[0m\u001b[0;34m\"utf8\"\u001b[0m\u001b[0;34m)\u001b[0m\u001b[0;34m\u001b[0m\u001b[0;34m\u001b[0m\u001b[0m\n\u001b[1;32m      6\u001b[0m \u001b[0;34m\u001b[0m\u001b[0m\n\u001b[0;32m----> 7\u001b[0;31m \u001b[0mdata\u001b[0m \u001b[0;34m=\u001b[0m \u001b[0mjson\u001b[0m\u001b[0;34m.\u001b[0m\u001b[0mloads\u001b[0m\u001b[0;34m(\u001b[0m\u001b[0mf\u001b[0m\u001b[0;34m.\u001b[0m\u001b[0mread\u001b[0m\u001b[0;34m(\u001b[0m\u001b[0;34m)\u001b[0m\u001b[0;34m)\u001b[0m\u001b[0;34m\u001b[0m\u001b[0;34m\u001b[0m\u001b[0m\n\u001b[0m",
            "\u001b[0;32m/usr/lib/python3.7/json/__init__.py\u001b[0m in \u001b[0;36mloads\u001b[0;34m(s, encoding, cls, object_hook, parse_float, parse_int, parse_constant, object_pairs_hook, **kw)\u001b[0m\n\u001b[1;32m    346\u001b[0m             \u001b[0mparse_int\u001b[0m \u001b[0;32mis\u001b[0m \u001b[0;32mNone\u001b[0m \u001b[0;32mand\u001b[0m \u001b[0mparse_float\u001b[0m \u001b[0;32mis\u001b[0m \u001b[0;32mNone\u001b[0m \u001b[0;32mand\u001b[0m\u001b[0;34m\u001b[0m\u001b[0;34m\u001b[0m\u001b[0m\n\u001b[1;32m    347\u001b[0m             parse_constant is None and object_pairs_hook is None and not kw):\n\u001b[0;32m--> 348\u001b[0;31m         \u001b[0;32mreturn\u001b[0m \u001b[0m_default_decoder\u001b[0m\u001b[0;34m.\u001b[0m\u001b[0mdecode\u001b[0m\u001b[0;34m(\u001b[0m\u001b[0ms\u001b[0m\u001b[0;34m)\u001b[0m\u001b[0;34m\u001b[0m\u001b[0;34m\u001b[0m\u001b[0m\n\u001b[0m\u001b[1;32m    349\u001b[0m     \u001b[0;32mif\u001b[0m \u001b[0mcls\u001b[0m \u001b[0;32mis\u001b[0m \u001b[0;32mNone\u001b[0m\u001b[0;34m:\u001b[0m\u001b[0;34m\u001b[0m\u001b[0;34m\u001b[0m\u001b[0m\n\u001b[1;32m    350\u001b[0m         \u001b[0mcls\u001b[0m \u001b[0;34m=\u001b[0m \u001b[0mJSONDecoder\u001b[0m\u001b[0;34m\u001b[0m\u001b[0;34m\u001b[0m\u001b[0m\n",
            "\u001b[0;32m/usr/lib/python3.7/json/decoder.py\u001b[0m in \u001b[0;36mdecode\u001b[0;34m(self, s, _w)\u001b[0m\n\u001b[1;32m    338\u001b[0m         \u001b[0mend\u001b[0m \u001b[0;34m=\u001b[0m \u001b[0m_w\u001b[0m\u001b[0;34m(\u001b[0m\u001b[0ms\u001b[0m\u001b[0;34m,\u001b[0m \u001b[0mend\u001b[0m\u001b[0;34m)\u001b[0m\u001b[0;34m.\u001b[0m\u001b[0mend\u001b[0m\u001b[0;34m(\u001b[0m\u001b[0;34m)\u001b[0m\u001b[0;34m\u001b[0m\u001b[0;34m\u001b[0m\u001b[0m\n\u001b[1;32m    339\u001b[0m         \u001b[0;32mif\u001b[0m \u001b[0mend\u001b[0m \u001b[0;34m!=\u001b[0m \u001b[0mlen\u001b[0m\u001b[0;34m(\u001b[0m\u001b[0ms\u001b[0m\u001b[0;34m)\u001b[0m\u001b[0;34m:\u001b[0m\u001b[0;34m\u001b[0m\u001b[0;34m\u001b[0m\u001b[0m\n\u001b[0;32m--> 340\u001b[0;31m             \u001b[0;32mraise\u001b[0m \u001b[0mJSONDecodeError\u001b[0m\u001b[0;34m(\u001b[0m\u001b[0;34m\"Extra data\"\u001b[0m\u001b[0;34m,\u001b[0m \u001b[0ms\u001b[0m\u001b[0;34m,\u001b[0m \u001b[0mend\u001b[0m\u001b[0;34m)\u001b[0m\u001b[0;34m\u001b[0m\u001b[0;34m\u001b[0m\u001b[0m\n\u001b[0m\u001b[1;32m    341\u001b[0m         \u001b[0;32mreturn\u001b[0m \u001b[0mobj\u001b[0m\u001b[0;34m\u001b[0m\u001b[0;34m\u001b[0m\u001b[0m\n\u001b[1;32m    342\u001b[0m \u001b[0;34m\u001b[0m\u001b[0m\n",
            "\u001b[0;31mJSONDecodeError\u001b[0m: Extra data: line 1 column 587378450 (char 587378449)"
          ]
        }
      ]
    },
    {
      "cell_type": "code",
      "metadata": {
        "id": "a6499a66",
        "colab": {
          "base_uri": "https://localhost:8080/",
          "height": 186
        },
        "outputId": "4311397c-ad94-4fae-b731-f850f74cdf6a"
      },
      "source": [
        "##Preview of one notice in JSON format\n",
        "data[15643]"
      ],
      "id": "a6499a66",
      "execution_count": 15,
      "outputs": [
        {
          "output_type": "error",
          "ename": "NameError",
          "evalue": "ignored",
          "traceback": [
            "\u001b[0;31m---------------------------------------------------------------------------\u001b[0m",
            "\u001b[0;31mNameError\u001b[0m                                 Traceback (most recent call last)",
            "\u001b[0;32m<ipython-input-15-6417748e3ddf>\u001b[0m in \u001b[0;36m<module>\u001b[0;34m()\u001b[0m\n\u001b[1;32m      1\u001b[0m \u001b[0;31m##Preview of one notice in JSON format\u001b[0m\u001b[0;34m\u001b[0m\u001b[0;34m\u001b[0m\u001b[0;34m\u001b[0m\u001b[0m\n\u001b[0;32m----> 2\u001b[0;31m \u001b[0mdata\u001b[0m\u001b[0;34m[\u001b[0m\u001b[0;36m15643\u001b[0m\u001b[0;34m]\u001b[0m\u001b[0;34m\u001b[0m\u001b[0;34m\u001b[0m\u001b[0m\n\u001b[0m",
            "\u001b[0;31mNameError\u001b[0m: name 'data' is not defined"
          ]
        }
      ]
    },
    {
      "cell_type": "markdown",
      "metadata": {
        "id": "4db7dc65"
      },
      "source": [
        "**To do for Fabio, look into indexing to access elements in JSON"
      ],
      "id": "4db7dc65"
    },
    {
      "cell_type": "code",
      "metadata": {
        "id": "tKVULqdoEIv5"
      },
      "source": [
        "##https://stackoverflow.com/questions/16129652/accessing-json-elements"
      ],
      "id": "tKVULqdoEIv5",
      "execution_count": null,
      "outputs": []
    },
    {
      "cell_type": "code",
      "metadata": {
        "id": "TCdfyUVJOPXT"
      },
      "source": [
        "!pip install striprtf --q"
      ],
      "id": "TCdfyUVJOPXT",
      "execution_count": 11,
      "outputs": []
    },
    {
      "cell_type": "code",
      "metadata": {
        "scrolled": true,
        "id": "74693105",
        "colab": {
          "base_uri": "https://localhost:8080/"
        },
        "outputId": "3d5b947f-328c-4bc0-9c9f-a25a03e64d52"
      },
      "source": [
        "## Preview of one file\n",
        "from striprtf.striprtf import rtf_to_text\n",
        "rtf = open(path +\"/17629538/notification_157232.rtf\").read()\n",
        "text = rtf_to_text(rtf)\n",
        "print(text)"
      ],
      "id": "74693105",
      "execution_count": 13,
      "outputs": [
        {
          "output_type": "stream",
          "name": "stdout",
          "text": [
            "ФЕДЕРАЛЬНАЯ СЛУЖБА ПО НАДЗОРУ В СФЕРЕ СВЯЗИ, ИНФОРМАЦИОННЫХ ТЕХНОЛОГИЙ И МАССОВЫХ КОММУНИКАЦИЙ\n",
            "Требование \n",
            "о прекращении выдачи сведений о сайте в сети «Интернет», признанном копией заблокированного сайта\n",
            "(в соответствии с частью 3 статьи 15.6-1 Федерального закона от 27.07.2006 № 149-ФЗ «Об информации, информационных технологиях и о защите информации»)\n",
            "Решением Министерства цифрового развития, связи и массовых коммуникаций Российской Федерации от 19.11.2018 № 1з-4921/2018 сайт в сети «Интернет» www.new-films.ru признан копией сайта в сети «Интернет» http://filmtor.net, доступ к которому на основании решения Московского городского суда от  по гражданскому делу № 3-0238/2018 ограничен на постоянной основе в порядке, установленном статьей 15.6 Федерального закона от 27 июля 2006 года № 149-ФЗ «Об информации, информационных технологиях и о защите информации».\n",
            "В соответствии с частью 5 статьи 15.6-1 Федерального закона от 27 июля 2006 года № 149-ФЗ «Об информации, информационных технологиях и о защите информации» требуем в течение суток с момента получения настоящего Требования прекратить выдачу оператором поисковой системы сведений о сайте в сети «Интернет» www.new-films.ru.\n",
            "Настоящее Требование подписано квалифицированной электронной подписью уполномоченного должностного лица Федеральной службы по надзору в сфере связи, информационных технологий и массовых коммуникаций.\n",
            "\n",
            "\n",
            "\n",
            "\n",
            "\n",
            "\n",
            "\n",
            "\n",
            "\n",
            "\n",
            "THE FEDERAL SERVICE FOR SUPERVISION OF COMMUNICATIONS, INFORMATION TECHNOLOGY AND MASS MEDIA\n",
            "Request\n",
            "on exclusion of web-site recognized as a copy of permanently blocked web-site from search engine results\n",
            "(In accordance with the part 3 of the article 15.6-1 of the Federal Law No. 149-FZ of July 27, 2006 “On Information, Information Technology and Protection of Information”)\n",
            "\n",
            "By a Decision of the Ministry of Digital Development, Communications and Mass Communications of the Russian Federation dated 19.11.2018 № 1з-4921/2018 the web-site www.new-films.ru is recognized as a copy of the web-site http://filmtor.net, which is permanently blocked on the basis of Moscow city court decision dated 20.04.2018 № 3-0238/2018 in accordance with the procedure, established in article 15.6 of the Federal Law № 149-FZ of July 27, 2006 “On Information, Information Technology and Protection of Information”.\n",
            "In accordance with the part 5 of the article 15.6-1 of the Federal Law № 149-FZ of July 27, 2006 “On Information, Information Technology and Protection of Information” within one day from the moment of receipt of this request search engine operator must exclude domain name and URLs of web-site www.new-films.ru from results of search engine.\n",
            "This request is signed by the approved electronic digital signature of the authorized executive of The Federal Service for Supervision of Communications, Information Technology and Mass Media.\n",
            "\n",
            "\n"
          ]
        }
      ]
    },
    {
      "cell_type": "markdown",
      "metadata": {
        "id": "9106d600"
      },
      "source": [
        "Import all rtfs and create a dataframe,"
      ],
      "id": "9106d600"
    },
    {
      "cell_type": "code",
      "metadata": {
        "scrolled": true,
        "id": "faf9d6ea"
      },
      "source": [
        "##Create dataframe from notices\n",
        "import os; import pandas as pd;\n",
        "\n",
        "notices = []\n",
        "ids = []\n",
        "problems = []\n",
        "for subdir, dirs, files in os.walk(path):\n",
        "    for filename in files:\n",
        "        filepath = subdir + os.sep + filename\n",
        "\n",
        "        if filepath.endswith(\".rtf\"):\n",
        "            try:\n",
        "                rtf = open(filepath, encoding = \"utf-8\").read()\n",
        "                text = rtf_to_text(rtf) \n",
        "                ids.append(subdir[-8:])#no idea of what is doing this line\n",
        "                notices.append(text)\n",
        "            except (UnicodeDecodeError, UnicodeEncodeError, AttributeError) as e:\n",
        "                problems.append(filepath)\n",
        "\n",
        "d = {'ID':ids,'Notices':notices}\n",
        "df = pd.DataFrame(d)"
      ],
      "id": "faf9d6ea",
      "execution_count": 14,
      "outputs": []
    },
    {
      "cell_type": "code",
      "metadata": {
        "id": "VOY05NVgScDl"
      },
      "source": [
        "df.to_csv('rtf.csv')"
      ],
      "id": "VOY05NVgScDl",
      "execution_count": 17,
      "outputs": []
    },
    {
      "cell_type": "code",
      "metadata": {
        "colab": {
          "base_uri": "https://localhost:8080/"
        },
        "id": "p6JIOxrMP5AP",
        "outputId": "ebd1271e-0c38-415a-ddc7-45844e4cad8f"
      },
      "source": [
        "!pip install pdfminer --q\n",
        "!pip install pdfminer.six --q"
      ],
      "id": "p6JIOxrMP5AP",
      "execution_count": 20,
      "outputs": [
        {
          "output_type": "stream",
          "name": "stdout",
          "text": [
            "\u001b[K     |████████████████████████████████| 5.6 MB 5.3 MB/s \n",
            "\u001b[K     |████████████████████████████████| 3.5 MB 45.3 MB/s \n",
            "\u001b[?25h"
          ]
        }
      ]
    },
    {
      "cell_type": "code",
      "metadata": {
        "id": "ZLdnc4w2Ux66"
      },
      "source": [
        "#some of the pdf are images really"
      ],
      "id": "ZLdnc4w2Ux66",
      "execution_count": null,
      "outputs": []
    },
    {
      "cell_type": "code",
      "metadata": {
        "id": "Z0MERP_qPJjy"
      },
      "source": [
        "import os; import pandas as pd;\n",
        "from pdfminer.high_level import extract_text\n",
        "notices = []\n",
        "ids = []\n",
        "problems = []\n",
        "for subdir, dirs, files in os.walk(path):\n",
        "    for filename in files:\n",
        "        filepath = subdir + os.sep + filename\n",
        "\n",
        "        if filepath.endswith(\".pdf\"):\n",
        "          pdf = (filepath)\n",
        "          text = extract_text(pdf) \n",
        "          ids.append(subdir[-8:])#no idea of what is doing this line\n",
        "          notices.append(text)\n",
        "          \n",
        "\n",
        "foo = {'ID':ids,'Notices':notices}\n",
        "df2 = pd.DataFrame(foo)"
      ],
      "id": "Z0MERP_qPJjy",
      "execution_count": null,
      "outputs": []
    },
    {
      "cell_type": "code",
      "metadata": {
        "id": "hacgIAiQWpj0"
      },
      "source": [
        "df.to_csv('csv.csv')"
      ],
      "id": "hacgIAiQWpj0",
      "execution_count": null,
      "outputs": []
    },
    {
      "cell_type": "code",
      "metadata": {
        "colab": {
          "base_uri": "https://localhost:8080/",
          "height": 35
        },
        "id": "e9nVAofUTXYD",
        "outputId": "79633936-ae58-4d1b-8bcb-96bc5c5fbf31"
      },
      "source": [
        "g=(\"/content/Hack/11348794/APU's_Similar_Content_Decision__2015-818__2015-103_Chilling_Effects.pdf\")\n",
        "extract_text(g)"
      ],
      "id": "e9nVAofUTXYD",
      "execution_count": 33,
      "outputs": [
        {
          "output_type": "execute_result",
          "data": {
            "application/vnd.google.colaboratory.intrinsic+json": {
              "type": "string"
            },
            "text/plain": [
              "'\\x0c\\x0c'"
            ]
          },
          "metadata": {},
          "execution_count": 33
        }
      ]
    },
    {
      "cell_type": "markdown",
      "metadata": {
        "id": "2e4ad34a"
      },
      "source": [
        "**To do for Fabio, import all pdfs as well and append to the dataframe we have, you can use the outerloop just changing the if statement to have .endwith(\".pdf\") and then using the library pdfminer (https://pypi.org/project/pdfminer/), I didn't have time to try this. Don't spend too much time on it, you can move onto NLP with what we have, I can try to figure out importing pdf tomorrow if needed."
      ],
      "id": "2e4ad34a"
    },
    {
      "cell_type": "markdown",
      "metadata": {
        "id": "791246c5"
      },
      "source": [
        "The ID column in df correspond to the ID in the JSON file"
      ],
      "id": "791246c5"
    },
    {
      "cell_type": "code",
      "metadata": {
        "id": "e010383d"
      },
      "source": [
        "df"
      ],
      "id": "e010383d",
      "execution_count": null,
      "outputs": []
    }
  ]
}