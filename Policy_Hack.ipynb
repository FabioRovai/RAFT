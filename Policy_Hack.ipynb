{
  "nbformat": 4,
  "nbformat_minor": 5,
  "metadata": {
    "kernelspec": {
      "display_name": "Python 3",
      "language": "python",
      "name": "python3"
    },
    "language_info": {
      "codemirror_mode": {
        "name": "ipython",
        "version": 3
      },
      "file_extension": ".py",
      "mimetype": "text/x-python",
      "name": "python",
      "nbconvert_exporter": "python",
      "pygments_lexer": "ipython3",
      "version": "3.8.8"
    },
    "colab": {
      "name": "Policy Hack.ipynb",
      "provenance": [],
      "include_colab_link": true
    }
  },
  "cells": [
    {
      "cell_type": "markdown",
      "metadata": {
        "id": "view-in-github",
        "colab_type": "text"
      },
      "source": [
        "<a href=\"https://colab.research.google.com/github/FabioRovai/RAFT/blob/main/Policy_Hack.ipynb\" target=\"_parent\"><img src=\"https://colab.research.google.com/assets/colab-badge.svg\" alt=\"Open In Colab\"/></a>"
      ]
    },
    {
      "cell_type": "markdown",
      "metadata": {
        "id": "f74eee3f"
      },
      "source": [
        "Questions we are trying to answer  \n",
        "1. Type of requests by country  \n",
        "2. Number of requests by country  \n",
        "3. Trend over time of notices by country breakdown by # and type of request "
      ],
      "id": "f74eee3f"
    },
    {
      "cell_type": "code",
      "metadata": {
        "id": "bUgrZDAY5MEX"
      },
      "source": [
        "# Generalizing enviroment\n",
        "!wget https://www.dropbox.com/s/74o2439vl4f705d/internet_freedom_scores.csv --quiet\n",
        "!pip install gdown --q\n",
        "!pip install pdfminer --q\n",
        "!pip install pdfminer.six --q\n",
        "!pip install striprtf --q"
      ],
      "id": "bUgrZDAY5MEX",
      "execution_count": 3,
      "outputs": []
    },
    {
      "cell_type": "code",
      "metadata": {
        "id": "Jd1_2OpI-O2S"
      },
      "source": [
        "import gdown\n",
        "import os\n",
        "import shutil\n",
        "import zipfile\n",
        "import os\n",
        "import pandas as pd\n",
        "from striprtf.striprtf import rtf_to_text\n",
        "from pdfminer.high_level import extract_text"
      ],
      "id": "Jd1_2OpI-O2S",
      "execution_count": 1,
      "outputs": []
    },
    {
      "cell_type": "code",
      "metadata": {
        "colab": {
          "base_uri": "https://localhost:8080/",
          "height": 36
        },
        "id": "MVpajT5TmQdz",
        "outputId": "dd92018d-80bd-49ba-eebb-b35c6f5ce6c5"
      },
      "source": [
        "url = 'https://drive.google.com/u/0/uc?export=download&confirm=dxYX&id=1Did693v60aQsIy3y02jYopLqQ9dX3T13'\n",
        "output = 'goverement_requests.zip'\n",
        "gdown.download(url, output, quiet=True)"
      ],
      "id": "MVpajT5TmQdz",
      "execution_count": 5,
      "outputs": [
        {
          "output_type": "execute_result",
          "data": {
            "application/vnd.google.colaboratory.intrinsic+json": {
              "type": "string"
            },
            "text/plain": [
              "'goverement_requests.zip'"
            ]
          },
          "metadata": {},
          "execution_count": 5
        }
      ]
    },
    {
      "cell_type": "code",
      "metadata": {
        "colab": {
          "base_uri": "https://localhost:8080/",
          "height": 36
        },
        "id": "PuYMub1TncsU",
        "outputId": "8758881c-9630-42a9-d688-67fe2c203e5a"
      },
      "source": [
        "url = 'https://drive.google.com/u/0/uc?export=download&confirm=uAxG&id=1pw3S6t8bkSk0__RxCPfGSWwhsZuC9FDy'\n",
        "output = 'notices.json'\n",
        "gdown.download(url, output, quiet=True)"
      ],
      "id": "PuYMub1TncsU",
      "execution_count": 6,
      "outputs": [
        {
          "output_type": "execute_result",
          "data": {
            "application/vnd.google.colaboratory.intrinsic+json": {
              "type": "string"
            },
            "text/plain": [
              "'notices.json'"
            ]
          },
          "metadata": {},
          "execution_count": 6
        }
      ]
    },
    {
      "cell_type": "code",
      "metadata": {
        "id": "VmvmoQJ7u_AU"
      },
      "source": [
        "url = 'https://drive.google.com/u/0/uc?id=10H32wf70nBFdwlqKvU_7my3BBPc8LDuv&export=download'\n",
        "output = 'csv.csv'\n",
        "gdown.download(url, output, quiet=False)"
      ],
      "id": "VmvmoQJ7u_AU",
      "execution_count": null,
      "outputs": []
    },
    {
      "cell_type": "code",
      "metadata": {
        "id": "L3pL14s1vH_Y"
      },
      "source": [
        "url = 'https://drive.google.com/u/0/uc?export=download&confirm=zN00&id=1yNIJLQWw6ZdQPrCYVFj-2P-i996L7CEj'\n",
        "output = 'rtf.csv'\n",
        "gdown.download(url, output, quiet=True)"
      ],
      "id": "L3pL14s1vH_Y",
      "execution_count": null,
      "outputs": []
    },
    {
      "cell_type": "code",
      "metadata": {
        "id": "2WHMtUJ1_10b"
      },
      "source": [
        "!mkdir goverement_requests\n",
        "!mkdir Hack"
      ],
      "id": "2WHMtUJ1_10b",
      "execution_count": 7,
      "outputs": []
    },
    {
      "cell_type": "code",
      "metadata": {
        "colab": {
          "base_uri": "https://localhost:8080/",
          "height": 36
        },
        "id": "V3xjjjYiApDJ",
        "outputId": "f3d3099a-8b8e-49ca-d82d-db632ec51f15"
      },
      "source": [
        "#Storing ZIP and unzip in 2 separated folders\n",
        "shutil.move(\"/content/goverement_requests.zip\", \"/content/goverement_requests\")"
      ],
      "id": "V3xjjjYiApDJ",
      "execution_count": 9,
      "outputs": [
        {
          "output_type": "execute_result",
          "data": {
            "application/vnd.google.colaboratory.intrinsic+json": {
              "type": "string"
            },
            "text/plain": [
              "'/content/goverement_requests/goverement_requests.zip'"
            ]
          },
          "metadata": {},
          "execution_count": 9
        }
      ]
    },
    {
      "cell_type": "code",
      "metadata": {
        "id": "thowj0TE-DYZ"
      },
      "source": [
        "\n",
        "with zipfile.ZipFile('/content/goverement_requests/goverement_requests.zip', 'r') as zip_ref:\n",
        "    zip_ref.extractall('/content/Hack') "
      ],
      "id": "thowj0TE-DYZ",
      "execution_count": 10,
      "outputs": []
    },
    {
      "cell_type": "code",
      "metadata": {
        "scrolled": true,
        "id": "cfeb5117",
        "colab": {
          "base_uri": "https://localhost:8080/"
        },
        "outputId": "bacddf9b-522b-4a5b-c17b-162b0054bcca"
      },
      "source": [
        "import json\n",
        "\n",
        "path = \"/content/notices.json\"\n",
        "\n",
        "f = open(path ,encoding=\"utf8\")\n",
        "\n",
        "data = json.loads(f.read())\n",
        "##Preview of one notice in JSON format\n",
        "data[15643]\n"
      ],
      "id": "cfeb5117",
      "execution_count": 1,
      "outputs": [
        {
          "output_type": "execute_result",
          "data": {
            "text/plain": [
              "{'notice': {'action_taken': 'Yes',\n",
              "  'body': '',\n",
              "  'date_received': '2019-01-15T00:00:00.000Z',\n",
              "  'date_sent': '2019-01-15T00:00:00.000Z',\n",
              "  'id': 17906849,\n",
              "  'jurisdictions': [],\n",
              "  'language': '',\n",
              "  'principal_name': 'Twitter',\n",
              "  'recipient_name': 'Twitter',\n",
              "  'sender_name': 'Federal Service for Supervision in the Sphere of Telecom, Information Technologies and Mass Communications',\n",
              "  'tags': [],\n",
              "  'title': 'Legal Request to TWITTER from Russia - ROSKOMNADZOR',\n",
              "  'topics': ['Government Requests'],\n",
              "  'type': 'GovernmentRequest',\n",
              "  'works': [{'copyrighted_urls': [{'count': 1, 'domain': 'seeattachedPDF'}],\n",
              "    'description': '',\n",
              "    'infringing_urls': [{'count': 1, 'domain': 'seeattachedPDF'}]}]}}"
            ]
          },
          "metadata": {},
          "execution_count": 1
        }
      ]
    },
    {
      "cell_type": "markdown",
      "metadata": {
        "id": "4db7dc65"
      },
      "source": [
        "**To do for Fabio, look into indexing to access elements in JSON"
      ],
      "id": "4db7dc65"
    },
    {
      "cell_type": "code",
      "metadata": {
        "colab": {
          "base_uri": "https://localhost:8080/"
        },
        "id": "TCdfyUVJOPXT",
        "outputId": "800b84a9-04ed-4336-acf7-ec69a1e77784"
      },
      "source": [
        "print(data[0]['notice']['recipient_name']) #number index + main title (notice)+ section you like\n",
        "print(data[10]['notice']['sender_name'])"
      ],
      "id": "TCdfyUVJOPXT",
      "execution_count": 28,
      "outputs": [
        {
          "output_type": "stream",
          "name": "stdout",
          "text": [
            "Google, Inc.\n",
            "Federal Service for Supervision of Communications, Information Technology and Mass Media (Roskomnadzor)\n"
          ]
        }
      ]
    },
    {
      "cell_type": "code",
      "metadata": {
        "id": "PRddQbMaw-R9"
      },
      "source": [
        "import pandas as pd\n",
        "df=pd.json_normalize(data)\n"
      ],
      "id": "PRddQbMaw-R9",
      "execution_count": 4,
      "outputs": []
    },
    {
      "cell_type": "code",
      "metadata": {
        "id": "9qNWdC6v5Yxj"
      },
      "source": [
        "df.to_csv('jsn.csv')\n",
        "\n"
      ],
      "id": "9qNWdC6v5Yxj",
      "execution_count": null,
      "outputs": []
    },
    {
      "cell_type": "code",
      "metadata": {
        "id": "uMjlVhBk6CNt",
        "outputId": "494efc29-d0c1-491d-cd92-6bcaa7361517",
        "colab": {
          "base_uri": "https://localhost:8080/",
          "height": 1000
        }
      },
      "source": [
        "df"
      ],
      "id": "uMjlVhBk6CNt",
      "execution_count": 9,
      "outputs": [
        {
          "output_type": "execute_result",
          "data": {
            "text/html": [
              "<div>\n",
              "<style scoped>\n",
              "    .dataframe tbody tr th:only-of-type {\n",
              "        vertical-align: middle;\n",
              "    }\n",
              "\n",
              "    .dataframe tbody tr th {\n",
              "        vertical-align: top;\n",
              "    }\n",
              "\n",
              "    .dataframe thead th {\n",
              "        text-align: right;\n",
              "    }\n",
              "</style>\n",
              "<table border=\"1\" class=\"dataframe\">\n",
              "  <thead>\n",
              "    <tr style=\"text-align: right;\">\n",
              "      <th></th>\n",
              "      <th>notice.id</th>\n",
              "      <th>notice.type</th>\n",
              "      <th>notice.title</th>\n",
              "      <th>notice.body</th>\n",
              "      <th>notice.date_sent</th>\n",
              "      <th>notice.date_received</th>\n",
              "      <th>notice.topics</th>\n",
              "      <th>notice.sender_name</th>\n",
              "      <th>notice.principal_name</th>\n",
              "      <th>notice.recipient_name</th>\n",
              "      <th>notice.works</th>\n",
              "      <th>notice.tags</th>\n",
              "      <th>notice.jurisdictions</th>\n",
              "      <th>notice.action_taken</th>\n",
              "      <th>notice.language</th>\n",
              "    </tr>\n",
              "  </thead>\n",
              "  <tbody>\n",
              "    <tr>\n",
              "      <th>0</th>\n",
              "      <td>11062657</td>\n",
              "      <td>GovernmentRequest</td>\n",
              "      <td>Local Law Request to Google to Remove Illegal ...</td>\n",
              "      <td>\\r\\n\\r\\nRequest made in application of art. 12...</td>\n",
              "      <td>2015-06-22T00:00:00.000Z</td>\n",
              "      <td>2015-06-22T00:00:00.000Z</td>\n",
              "      <td>[Government Requests, International]</td>\n",
              "      <td>L’Office Central de Lutte contre la Criminali...</td>\n",
              "      <td>None</td>\n",
              "      <td>Google, Inc.</td>\n",
              "      <td>[{'description': '\r\n",
              "Google is unable to publis...</td>\n",
              "      <td>[]</td>\n",
              "      <td>[]</td>\n",
              "      <td></td>\n",
              "      <td>fr</td>\n",
              "    </tr>\n",
              "    <tr>\n",
              "      <th>1</th>\n",
              "      <td>11210026</td>\n",
              "      <td>GovernmentRequest</td>\n",
              "      <td>Address Confidentiality Program Participant</td>\n",
              "      <td>Members of the Address Confidentiality Program...</td>\n",
              "      <td>2015-09-16T00:00:00.000Z</td>\n",
              "      <td>2015-09-16T00:00:00.000Z</td>\n",
              "      <td>[Court Orders, Government Requests]</td>\n",
              "      <td>Department of Justice, State of Oregon, Addres...</td>\n",
              "      <td>Rozlyn</td>\n",
              "      <td>Darlene Wease</td>\n",
              "      <td>[{'description': 'Remove search engine listing...</td>\n",
              "      <td>[newspaper posting(s)]</td>\n",
              "      <td>[us]</td>\n",
              "      <td>Partial</td>\n",
              "      <td>en</td>\n",
              "    </tr>\n",
              "    <tr>\n",
              "      <th>2</th>\n",
              "      <td>11214903</td>\n",
              "      <td>GovernmentRequest</td>\n",
              "      <td>Russia - Roskomnadzor Request to Twitter - Cou...</td>\n",
              "      <td></td>\n",
              "      <td>2015-09-08T00:00:00.000Z</td>\n",
              "      <td>2015-09-08T00:00:00.000Z</td>\n",
              "      <td>[International, Government Requests]</td>\n",
              "      <td>Federal Service for Supervision of Communicati...</td>\n",
              "      <td>N/A</td>\n",
              "      <td>Twitter, Inc.</td>\n",
              "      <td>[{'description': '', 'infringing_urls': [{'dom...</td>\n",
              "      <td>[]</td>\n",
              "      <td>[]</td>\n",
              "      <td>Yes</td>\n",
              "      <td></td>\n",
              "    </tr>\n",
              "    <tr>\n",
              "      <th>3</th>\n",
              "      <td>11348794</td>\n",
              "      <td>GovernmentRequest</td>\n",
              "      <td>Turkey - APU Request to Twitter - Country With...</td>\n",
              "      <td></td>\n",
              "      <td>2015-10-22T00:00:00.000Z</td>\n",
              "      <td>2015-10-22T00:00:00.000Z</td>\n",
              "      <td>[International, Government Requests]</td>\n",
              "      <td>APU's Similar Content Decision  2015-818, 2015...</td>\n",
              "      <td>NA</td>\n",
              "      <td>Twitter, Inc.</td>\n",
              "      <td>[{'description': '', 'infringing_urls': [{'dom...</td>\n",
              "      <td>[]</td>\n",
              "      <td>[]</td>\n",
              "      <td>Yes</td>\n",
              "      <td></td>\n",
              "    </tr>\n",
              "    <tr>\n",
              "      <th>4</th>\n",
              "      <td>11354689</td>\n",
              "      <td>GovernmentRequest</td>\n",
              "      <td>Photo</td>\n",
              "      <td>Enlever tout sir google perci \\r\\n\\r\\n\\r\\nMela...</td>\n",
              "      <td>2015-10-25T00:00:00.000Z</td>\n",
              "      <td>2015-10-25T00:00:00.000Z</td>\n",
              "      <td>[Copyright, Copyright and Fair Use, Government...</td>\n",
              "      <td>Mer</td>\n",
              "      <td>Mer</td>\n",
              "      <td>Ri</td>\n",
              "      <td>[{'description': '', 'infringing_urls': [{'url...</td>\n",
              "      <td>[image]</td>\n",
              "      <td>[Je]</td>\n",
              "      <td>Yes</td>\n",
              "      <td>fr</td>\n",
              "    </tr>\n",
              "    <tr>\n",
              "      <th>...</th>\n",
              "      <td>...</td>\n",
              "      <td>...</td>\n",
              "      <td>...</td>\n",
              "      <td>...</td>\n",
              "      <td>...</td>\n",
              "      <td>...</td>\n",
              "      <td>...</td>\n",
              "      <td>...</td>\n",
              "      <td>...</td>\n",
              "      <td>...</td>\n",
              "      <td>...</td>\n",
              "      <td>...</td>\n",
              "      <td>...</td>\n",
              "      <td>...</td>\n",
              "      <td>...</td>\n",
              "    </tr>\n",
              "    <tr>\n",
              "      <th>62724</th>\n",
              "      <td>25516324</td>\n",
              "      <td>GovernmentRequest</td>\n",
              "      <td>Government Request Removal Complaint to Google</td>\n",
              "      <td>None</td>\n",
              "      <td>2021-10-21T00:00:00.000Z</td>\n",
              "      <td>2021-10-21T00:00:00.000Z</td>\n",
              "      <td>[Government Requests]</td>\n",
              "      <td>Roskomnadzor: The Federal Service for Supervis...</td>\n",
              "      <td>None</td>\n",
              "      <td>Google LLC</td>\n",
              "      <td>[{'description': None, 'infringing_urls': [{'d...</td>\n",
              "      <td>[]</td>\n",
              "      <td>[RU]</td>\n",
              "      <td>None</td>\n",
              "      <td>ru</td>\n",
              "    </tr>\n",
              "    <tr>\n",
              "      <th>62725</th>\n",
              "      <td>25516328</td>\n",
              "      <td>GovernmentRequest</td>\n",
              "      <td>Government Request Removal Complaint to Google</td>\n",
              "      <td>None</td>\n",
              "      <td>2021-10-21T00:00:00.000Z</td>\n",
              "      <td>2021-10-21T00:00:00.000Z</td>\n",
              "      <td>[Government Requests]</td>\n",
              "      <td>Roskomnadzor: The Federal Service for Supervis...</td>\n",
              "      <td>None</td>\n",
              "      <td>Google LLC</td>\n",
              "      <td>[{'description': None, 'infringing_urls': [{'d...</td>\n",
              "      <td>[]</td>\n",
              "      <td>[RU]</td>\n",
              "      <td>None</td>\n",
              "      <td>ru</td>\n",
              "    </tr>\n",
              "    <tr>\n",
              "      <th>62726</th>\n",
              "      <td>25516330</td>\n",
              "      <td>GovernmentRequest</td>\n",
              "      <td>Government Request Removal Complaint to Google</td>\n",
              "      <td>None</td>\n",
              "      <td>2021-10-21T00:00:00.000Z</td>\n",
              "      <td>2021-10-21T00:00:00.000Z</td>\n",
              "      <td>[Government Requests]</td>\n",
              "      <td>Roskomnadzor: The Federal Service for Supervis...</td>\n",
              "      <td>None</td>\n",
              "      <td>Google LLC</td>\n",
              "      <td>[{'description': None, 'infringing_urls': [{'d...</td>\n",
              "      <td>[]</td>\n",
              "      <td>[RU]</td>\n",
              "      <td>None</td>\n",
              "      <td>ru</td>\n",
              "    </tr>\n",
              "    <tr>\n",
              "      <th>62727</th>\n",
              "      <td>25516333</td>\n",
              "      <td>GovernmentRequest</td>\n",
              "      <td>Government Request Removal Complaint to Google</td>\n",
              "      <td>None</td>\n",
              "      <td>2021-10-21T00:00:00.000Z</td>\n",
              "      <td>2021-10-21T00:00:00.000Z</td>\n",
              "      <td>[Government Requests]</td>\n",
              "      <td>Roskomnadzor: The Federal Service for Supervis...</td>\n",
              "      <td>None</td>\n",
              "      <td>Google LLC</td>\n",
              "      <td>[{'description': None, 'infringing_urls': [{'d...</td>\n",
              "      <td>[]</td>\n",
              "      <td>[RU]</td>\n",
              "      <td>None</td>\n",
              "      <td>ru</td>\n",
              "    </tr>\n",
              "    <tr>\n",
              "      <th>62728</th>\n",
              "      <td>25516334</td>\n",
              "      <td>GovernmentRequest</td>\n",
              "      <td>Government Request Removal Complaint to Google</td>\n",
              "      <td>None</td>\n",
              "      <td>2021-10-21T00:00:00.000Z</td>\n",
              "      <td>2021-10-21T00:00:00.000Z</td>\n",
              "      <td>[Government Requests]</td>\n",
              "      <td>Roskomnadzor: The Federal Service for Supervis...</td>\n",
              "      <td>None</td>\n",
              "      <td>Google LLC</td>\n",
              "      <td>[{'description': None, 'infringing_urls': [{'d...</td>\n",
              "      <td>[]</td>\n",
              "      <td>[RU]</td>\n",
              "      <td>None</td>\n",
              "      <td>ru</td>\n",
              "    </tr>\n",
              "  </tbody>\n",
              "</table>\n",
              "<p>62729 rows × 15 columns</p>\n",
              "</div>"
            ],
            "text/plain": [
              "       notice.id        notice.type  ... notice.action_taken notice.language\n",
              "0       11062657  GovernmentRequest  ...                                  fr\n",
              "1       11210026  GovernmentRequest  ...             Partial              en\n",
              "2       11214903  GovernmentRequest  ...                 Yes                \n",
              "3       11348794  GovernmentRequest  ...                 Yes                \n",
              "4       11354689  GovernmentRequest  ...                 Yes              fr\n",
              "...          ...                ...  ...                 ...             ...\n",
              "62724   25516324  GovernmentRequest  ...                None              ru\n",
              "62725   25516328  GovernmentRequest  ...                None              ru\n",
              "62726   25516330  GovernmentRequest  ...                None              ru\n",
              "62727   25516333  GovernmentRequest  ...                None              ru\n",
              "62728   25516334  GovernmentRequest  ...                None              ru\n",
              "\n",
              "[62729 rows x 15 columns]"
            ]
          },
          "metadata": {},
          "execution_count": 9
        }
      ]
    },
    {
      "cell_type": "code",
      "metadata": {
        "scrolled": true,
        "id": "74693105"
      },
      "source": [
        "## Preview of one file\n",
        "path = \"/content/Hack\"\n",
        "rtf = open(path +\"/17629538/notification_157232.rtf\").read()\n",
        "text = rtf_to_text(rtf)\n",
        "#with pdf\n",
        "g=('/content/Hack/11214903/201509041234567.pdf')\n",
        "gx=extract_text(g)\n",
        "\n",
        "print (text)\n",
        "print (gx)"
      ],
      "id": "74693105",
      "execution_count": null,
      "outputs": []
    },
    {
      "cell_type": "markdown",
      "metadata": {
        "id": "9106d600"
      },
      "source": [
        "Import all rtfs and create a dataframe,"
      ],
      "id": "9106d600"
    },
    {
      "cell_type": "code",
      "metadata": {
        "scrolled": true,
        "id": "faf9d6ea"
      },
      "source": [
        "'''##Create dataframe from notices\n",
        "notices = []\n",
        "ids = []\n",
        "problems = []\n",
        "for subdir, dirs, files in os.walk(path):\n",
        "    for filename in files:\n",
        "        filepath = subdir + os.sep + filename\n",
        "\n",
        "        if filepath.endswith(\".rtf\"):\n",
        "            try:\n",
        "                rtf = open(filepath, encoding = \"utf-8\").read()\n",
        "                text = rtf_to_text(rtf) \n",
        "                ids.append(subdir)\n",
        "                notices.append(text)\n",
        "            except (UnicodeDecodeError, UnicodeEncodeError, AttributeError) as e:\n",
        "                problems.append(filepath)\n",
        "\n",
        "d = {'ID':ids,'Notices':notices}\n",
        "df = pd.DataFrame(d)\n",
        "df.to_csv('rtf.csv')'''"
      ],
      "id": "faf9d6ea",
      "execution_count": null,
      "outputs": []
    },
    {
      "cell_type": "code",
      "metadata": {
        "id": "ZLdnc4w2Ux66"
      },
      "source": [
        "#some of the pdf are images really"
      ],
      "id": "ZLdnc4w2Ux66",
      "execution_count": null,
      "outputs": []
    },
    {
      "cell_type": "code",
      "metadata": {
        "id": "Z0MERP_qPJjy"
      },
      "source": [
        "'''\n",
        "\n",
        "notices = []\n",
        "ids = []\n",
        "problems = []\n",
        "for subdir, dirs, files in os.walk(path):\n",
        "    for filename in files:\n",
        "        filepath = subdir + os.sep + filename\n",
        "\n",
        "        if filepath.endswith(\".pdf\"):\n",
        "          pdf = (filepath)\n",
        "          text = extract_text(pdf) \n",
        "          ids.append(subdir[-8:])#no idea of what is doing this line\n",
        "          notices.append(text)\n",
        "          \n",
        "\n",
        "foo = {'ID':ids,'Notices':notices}\n",
        "df2 = pd.DataFrame(foo)\n",
        "df2.to_csv('csv.csv')'''"
      ],
      "id": "Z0MERP_qPJjy",
      "execution_count": 36,
      "outputs": []
    },
    {
      "cell_type": "markdown",
      "metadata": {
        "id": "2e4ad34a"
      },
      "source": [
        "**To do for Fabio, import all pdfs as well and append to the dataframe we have, you can use the outerloop just changing the if statement to have .endwith(\".pdf\") and then using the library pdfminer (https://pypi.org/project/pdfminer/), I didn't have time to try this. Don't spend too much time on it, you can move onto NLP with what we have, I can try to figure out importing pdf tomorrow if needed."
      ],
      "id": "2e4ad34a"
    },
    {
      "cell_type": "markdown",
      "metadata": {
        "id": "791246c5"
      },
      "source": [
        "The ID column in df correspond to the ID in the JSON file"
      ],
      "id": "791246c5"
    },
    {
      "cell_type": "code",
      "metadata": {
        "id": "P7e7hT2twVdu"
      },
      "source": [
        ""
      ],
      "id": "P7e7hT2twVdu",
      "execution_count": null,
      "outputs": []
    }
  ]
}