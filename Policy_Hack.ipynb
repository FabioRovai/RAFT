{
  "nbformat": 4,
  "nbformat_minor": 5,
  "metadata": {
    "kernelspec": {
      "display_name": "Python 3",
      "language": "python",
      "name": "python3"
    },
    "language_info": {
      "codemirror_mode": {
        "name": "ipython",
        "version": 3
      },
      "file_extension": ".py",
      "mimetype": "text/x-python",
      "name": "python",
      "nbconvert_exporter": "python",
      "pygments_lexer": "ipython3",
      "version": "3.8.8"
    },
    "colab": {
      "name": "Policy Hack.ipynb",
      "provenance": [],
      "include_colab_link": true
    }
  },
  "cells": [
    {
      "cell_type": "markdown",
      "metadata": {
        "id": "view-in-github",
        "colab_type": "text"
      },
      "source": [
        "<a href=\"https://colab.research.google.com/github/FabioRovai/RAFT/blob/main/Policy_Hack.ipynb\" target=\"_parent\"><img src=\"https://colab.research.google.com/assets/colab-badge.svg\" alt=\"Open In Colab\"/></a>"
      ]
    },
    {
      "cell_type": "markdown",
      "metadata": {
        "id": "f74eee3f"
      },
      "source": [
        "Questions we are trying to answer  \n",
        "1. Type of requests by country  \n",
        "2. Number of requests by country  \n",
        "3. Trend over time of notices by country breakdown by # and type of request "
      ],
      "id": "f74eee3f"
    },
    {
      "cell_type": "code",
      "metadata": {
        "id": "bUgrZDAY5MEX"
      },
      "source": [
        "# Generalizing enviroment\n",
        "!wget https://www.dropbox.com/s/74o2439vl4f705d/internet_freedom_scores.csv --quiet\n",
        "!pip install gdown --q\n",
        "!pip install pdfminer --q\n",
        "!pip install pdfminer.six --q\n",
        "!pip install striprtf --q"
      ],
      "id": "bUgrZDAY5MEX",
      "execution_count": 3,
      "outputs": []
    },
    {
      "cell_type": "code",
      "metadata": {
        "id": "Jd1_2OpI-O2S"
      },
      "source": [
        "import gdown\n",
        "import os\n",
        "import shutil\n",
        "import zipfile\n",
        "import os\n",
        "import pandas as pd\n",
        "from striprtf.striprtf import rtf_to_text\n",
        "from pdfminer.high_level import extract_text"
      ],
      "id": "Jd1_2OpI-O2S",
      "execution_count": 4,
      "outputs": []
    },
    {
      "cell_type": "code",
      "metadata": {
        "id": "MVpajT5TmQdz",
        "outputId": "dd92018d-80bd-49ba-eebb-b35c6f5ce6c5",
        "colab": {
          "base_uri": "https://localhost:8080/",
          "height": 35
        }
      },
      "source": [
        "url = 'https://drive.google.com/u/0/uc?export=download&confirm=dxYX&id=1Did693v60aQsIy3y02jYopLqQ9dX3T13'\n",
        "output = 'goverement_requests.zip'\n",
        "gdown.download(url, output, quiet=True)"
      ],
      "id": "MVpajT5TmQdz",
      "execution_count": 5,
      "outputs": [
        {
          "output_type": "execute_result",
          "data": {
            "application/vnd.google.colaboratory.intrinsic+json": {
              "type": "string"
            },
            "text/plain": [
              "'goverement_requests.zip'"
            ]
          },
          "metadata": {},
          "execution_count": 5
        }
      ]
    },
    {
      "cell_type": "code",
      "metadata": {
        "id": "PuYMub1TncsU",
        "outputId": "8758881c-9630-42a9-d688-67fe2c203e5a",
        "colab": {
          "base_uri": "https://localhost:8080/",
          "height": 35
        }
      },
      "source": [
        "url = 'https://drive.google.com/u/0/uc?export=download&confirm=uAxG&id=1pw3S6t8bkSk0__RxCPfGSWwhsZuC9FDy'\n",
        "output = 'notices.json'\n",
        "gdown.download(url, output, quiet=True)"
      ],
      "id": "PuYMub1TncsU",
      "execution_count": 6,
      "outputs": [
        {
          "output_type": "execute_result",
          "data": {
            "application/vnd.google.colaboratory.intrinsic+json": {
              "type": "string"
            },
            "text/plain": [
              "'notices.json'"
            ]
          },
          "metadata": {},
          "execution_count": 6
        }
      ]
    },
    {
      "cell_type": "code",
      "metadata": {
        "id": "VmvmoQJ7u_AU"
      },
      "source": [
        "url = 'https://drive.google.com/u/0/uc?id=10H32wf70nBFdwlqKvU_7my3BBPc8LDuv&export=download'\n",
        "output = 'csv.csv'\n",
        "gdown.download(url, output, quiet=False)"
      ],
      "id": "VmvmoQJ7u_AU",
      "execution_count": null,
      "outputs": []
    },
    {
      "cell_type": "code",
      "metadata": {
        "id": "L3pL14s1vH_Y"
      },
      "source": [
        "url = 'https://drive.google.com/u/0/uc?export=download&confirm=zN00&id=1yNIJLQWw6ZdQPrCYVFj-2P-i996L7CEj'\n",
        "output = 'rtf.csv'\n",
        "gdown.download(url, output, quiet=True)"
      ],
      "id": "L3pL14s1vH_Y",
      "execution_count": null,
      "outputs": []
    },
    {
      "cell_type": "code",
      "metadata": {
        "id": "2WHMtUJ1_10b"
      },
      "source": [
        "!mkdir goverement_requests\n",
        "!mkdir Hack"
      ],
      "id": "2WHMtUJ1_10b",
      "execution_count": 7,
      "outputs": []
    },
    {
      "cell_type": "code",
      "metadata": {
        "colab": {
          "base_uri": "https://localhost:8080/",
          "height": 35
        },
        "id": "V3xjjjYiApDJ",
        "outputId": "f3d3099a-8b8e-49ca-d82d-db632ec51f15"
      },
      "source": [
        "#Storing ZIP and unzip in 2 separated folders\n",
        "shutil.move(\"/content/goverement_requests.zip\", \"/content/goverement_requests\")"
      ],
      "id": "V3xjjjYiApDJ",
      "execution_count": 9,
      "outputs": [
        {
          "output_type": "execute_result",
          "data": {
            "application/vnd.google.colaboratory.intrinsic+json": {
              "type": "string"
            },
            "text/plain": [
              "'/content/goverement_requests/goverement_requests.zip'"
            ]
          },
          "metadata": {},
          "execution_count": 9
        }
      ]
    },
    {
      "cell_type": "code",
      "metadata": {
        "id": "thowj0TE-DYZ"
      },
      "source": [
        "\n",
        "with zipfile.ZipFile('/content/goverement_requests/goverement_requests.zip', 'r') as zip_ref:\n",
        "    zip_ref.extractall('/content/Hack') "
      ],
      "id": "thowj0TE-DYZ",
      "execution_count": 10,
      "outputs": []
    },
    {
      "cell_type": "code",
      "metadata": {
        "scrolled": true,
        "id": "cfeb5117",
        "colab": {
          "base_uri": "https://localhost:8080/"
        },
        "outputId": "dd776272-3cdf-477d-d083-d4b409b07b15"
      },
      "source": [
        "import json\n",
        "\n",
        "path = \"/content/notices.json\"\n",
        "\n",
        "f = open(path ,encoding=\"utf8\")\n",
        "\n",
        "data = json.loads(f.read())\n",
        "##Preview of one notice in JSON format\n",
        "data[15643]\n"
      ],
      "id": "cfeb5117",
      "execution_count": 13,
      "outputs": [
        {
          "output_type": "execute_result",
          "data": {
            "text/plain": [
              "{'notice': {'action_taken': 'Yes',\n",
              "  'body': '',\n",
              "  'date_received': '2019-01-15T00:00:00.000Z',\n",
              "  'date_sent': '2019-01-15T00:00:00.000Z',\n",
              "  'id': 17906849,\n",
              "  'jurisdictions': [],\n",
              "  'language': '',\n",
              "  'principal_name': 'Twitter',\n",
              "  'recipient_name': 'Twitter',\n",
              "  'sender_name': 'Federal Service for Supervision in the Sphere of Telecom, Information Technologies and Mass Communications',\n",
              "  'tags': [],\n",
              "  'title': 'Legal Request to TWITTER from Russia - ROSKOMNADZOR',\n",
              "  'topics': ['Government Requests'],\n",
              "  'type': 'GovernmentRequest',\n",
              "  'works': [{'copyrighted_urls': [{'count': 1, 'domain': 'seeattachedPDF'}],\n",
              "    'description': '',\n",
              "    'infringing_urls': [{'count': 1, 'domain': 'seeattachedPDF'}]}]}}"
            ]
          },
          "metadata": {},
          "execution_count": 13
        }
      ]
    },
    {
      "cell_type": "markdown",
      "metadata": {
        "id": "4db7dc65"
      },
      "source": [
        "**To do for Fabio, look into indexing to access elements in JSON"
      ],
      "id": "4db7dc65"
    },
    {
      "cell_type": "code",
      "metadata": {
        "colab": {
          "base_uri": "https://localhost:8080/"
        },
        "id": "TCdfyUVJOPXT",
        "outputId": "800b84a9-04ed-4336-acf7-ec69a1e77784"
      },
      "source": [
        "print(data[0]['notice']['recipient_name']) #number index + main title (notice)+ section you like\n",
        "print(data[10]['notice']['sender_name'])"
      ],
      "id": "TCdfyUVJOPXT",
      "execution_count": 28,
      "outputs": [
        {
          "output_type": "stream",
          "name": "stdout",
          "text": [
            "Google, Inc.\n",
            "Federal Service for Supervision of Communications, Information Technology and Mass Media (Roskomnadzor)\n"
          ]
        }
      ]
    },
    {
      "cell_type": "code",
      "metadata": {
        "scrolled": true,
        "id": "74693105",
        "colab": {
          "base_uri": "https://localhost:8080/"
        },
        "outputId": "ee13a985-b7f3-4b04-e9d8-71225ebdde0b"
      },
      "source": [
        "## Preview of one file\n",
        "path = \"/content/Hack\"\n",
        "rtf = open(path +\"/17629538/notification_157232.rtf\").read()\n",
        "text = rtf_to_text(rtf)\n",
        "#with pdf\n",
        "g=('/content/Hack/11214903/201509041234567.pdf')\n",
        "gx=extract_text(g)\n",
        "\n",
        "print (text)\n",
        "print (gx)"
      ],
      "id": "74693105",
      "execution_count": 32,
      "outputs": [
        {
          "output_type": "stream",
          "name": "stdout",
          "text": [
            "ФЕДЕРАЛЬНАЯ СЛУЖБА ПО НАДЗОРУ В СФЕРЕ СВЯЗИ, ИНФОРМАЦИОННЫХ ТЕХНОЛОГИЙ И МАССОВЫХ КОММУНИКАЦИЙ\n",
            "Требование \n",
            "о прекращении выдачи сведений о сайте в сети «Интернет», признанном копией заблокированного сайта\n",
            "(в соответствии с частью 3 статьи 15.6-1 Федерального закона от 27.07.2006 № 149-ФЗ «Об информации, информационных технологиях и о защите информации»)\n",
            "Решением Министерства цифрового развития, связи и массовых коммуникаций Российской Федерации от 19.11.2018 № 1з-4921/2018 сайт в сети «Интернет» www.new-films.ru признан копией сайта в сети «Интернет» http://filmtor.net, доступ к которому на основании решения Московского городского суда от  по гражданскому делу № 3-0238/2018 ограничен на постоянной основе в порядке, установленном статьей 15.6 Федерального закона от 27 июля 2006 года № 149-ФЗ «Об информации, информационных технологиях и о защите информации».\n",
            "В соответствии с частью 5 статьи 15.6-1 Федерального закона от 27 июля 2006 года № 149-ФЗ «Об информации, информационных технологиях и о защите информации» требуем в течение суток с момента получения настоящего Требования прекратить выдачу оператором поисковой системы сведений о сайте в сети «Интернет» www.new-films.ru.\n",
            "Настоящее Требование подписано квалифицированной электронной подписью уполномоченного должностного лица Федеральной службы по надзору в сфере связи, информационных технологий и массовых коммуникаций.\n",
            "\n",
            "\n",
            "\n",
            "\n",
            "\n",
            "\n",
            "\n",
            "\n",
            "\n",
            "\n",
            "THE FEDERAL SERVICE FOR SUPERVISION OF COMMUNICATIONS, INFORMATION TECHNOLOGY AND MASS MEDIA\n",
            "Request\n",
            "on exclusion of web-site recognized as a copy of permanently blocked web-site from search engine results\n",
            "(In accordance with the part 3 of the article 15.6-1 of the Federal Law No. 149-FZ of July 27, 2006 “On Information, Information Technology and Protection of Information”)\n",
            "\n",
            "By a Decision of the Ministry of Digital Development, Communications and Mass Communications of the Russian Federation dated 19.11.2018 № 1з-4921/2018 the web-site www.new-films.ru is recognized as a copy of the web-site http://filmtor.net, which is permanently blocked on the basis of Moscow city court decision dated 20.04.2018 № 3-0238/2018 in accordance with the procedure, established in article 15.6 of the Federal Law № 149-FZ of July 27, 2006 “On Information, Information Technology and Protection of Information”.\n",
            "In accordance with the part 5 of the article 15.6-1 of the Federal Law № 149-FZ of July 27, 2006 “On Information, Information Technology and Protection of Information” within one day from the moment of receipt of this request search engine operator must exclude domain name and URLs of web-site www.new-films.ru from results of search engine.\n",
            "This request is signed by the approved electronic digital signature of the authorized executive of The Federal Service for Supervision of Communications, Information Technology and Mass Media.\n",
            "\n",
            "\n",
            "Уведомление\n",
            " о внесении информации в «Единый реестр доменных имен, указателей \n",
            "\n",
            "страниц сайтов в сети «Интернет» и сетевых адресов, позволяющих \n",
            "идентифицировать сайты в сети «Интернет», содержащие информацию, \n",
            "распространение которой в Российской Федерации запрещено»\n",
            "\n",
            "В соответствии с частью 7 статьи 15.1 Федерального закона от 27.07.2006  \n",
            "№  149-ФЗ  «Об  информации,  информационных  технологиях  и  защите  информации» \n",
            "уведомляем, что на основании решения Федеральной службы по надзору в сфере связи, \n",
            "массовых коммуникаций и информационных технологий от 31.08.2015 № 75779-URL-on \n",
            "указатель  (указатели)  страницы  (страниц)  сайта  в  сети  \"Интернет\"  https://twitter.com/\n",
            "rppuppy/status/479642863857577984  включен(ы)  в  «Единый  реестр  доменных  имен, \n",
            "указателей  страниц  сайтов  в  сети  «Интернет»  и  сетевых  адресов,  позволяющих \n",
            "идентифицировать  сайты  в  сети  «Интернет»,  содержащие  информацию, \n",
            "распространение  которой  в  Российской  Федерации  запрещено»,  номер  реестровой \n",
            "записи  76611-РИ  в  связи  с  тем,  что  данная  информация  содержит  информацию  и \n",
            "материалы  с  порнографическими  изображениями  несовершеннолетних  и  (или) \n",
            "объявления о привлечении несовершеннолетних в качестве исполнителей для участия в \n",
            "зрелищных мероприятиях порнографического характера.\n",
            "\n",
            "В  течение  суток  с  момента  получения  настоящего \n",
            "\n",
            "  уведомления  необходимо \n",
            "проинформировать об этом обслуживаемого Вами владельца сайта в сети «Интернет» и \n",
            "уведомить  его  о  необходимости  незамедлительного  удаления  информации, \n",
            "распространение которой в Российской Федерации запрещено.\n",
            "\n",
            "В  течение  суток  с  момента  получения  от  провайдера  хостинга  уведомления  о \n",
            "включении  доменного  имени  и  (или)  указателя  страницы  сайта  в  сети  «Интернет»  в \n",
            "реестр  владелец  сайта  в  сети  «Интернет»  обязан  принять  меры  по  удалению \n",
            "запрещенной  информации  и  (или)  ограничению  доступа  к  сайту  в  сети  «Интернет», \n",
            "содержащему  информацию,  распространение  которой  в  Российской  Федерации \n",
            "запрещено. \n",
            "\n",
            "В  случае  отказа  или  бездействия  владельца  сайта  в  сети  «Интернет»  провайдер \n",
            "\n",
            "хостинга обязан ограничить доступ к такому сайту в сети «Интернет» в течение суток.\n",
            "\n",
            "В случае непринятия провайдером хостинга и (или) владельцем сайта   указанных  \n",
            "мер  будет  принято  решение  о  включении  сетевого  адреса,  позволяющего \n",
            "идентифицировать сайт в сети \"Интернет\", содержащий информацию, распространение \n",
            "которой  в  Российской  Федерации  запрещено  в  реестр,  а  доступ  к  нему  операторами \n",
            "связи будет ограничен.\n",
            "\n",
            "Решение о включении в реестр доменных имен, указателей страниц сайтов в сети \n",
            "«Интернет»  и  сетевых  адресов,  позволяющих  идентифицировать  сайты  в  сети \n",
            "«Интернет»,  содержащие  информацию,  распространение  которой  в  Российской \n",
            "Федерации  запрещено,  может  быть  обжаловано  владельцем  сайта  в  сети  «Интернет», \n",
            "провайдером  хостинга,  оператором  связи,  оказывающим  услуги  по  предоставлению \n",
            "доступа  к  информационно-телекоммуникационной  сети  «Интернет»,  в  суд  в  течение \n",
            "трех месяцев со дня принятия такого решения.\n",
            "\n",
            "Сведения  о  включении  доменных  имен,  указателей  страниц  сайтов  сети \n",
            "«Интернет»  и  сетевых  адресов  доступна  круглосуточно  в  сети  «Интернет»  по  адресу \n",
            "\n",
            "\fhttp://eais.rkn.gov.ru/.  \n",
            "\n",
            "Настоящее  Уведомление  подписано  квалифицированной  электронной  подписью \n",
            "Федеральной  службы  по  надзору  в  сфере  связи,  информационных  технологий  и \n",
            "массовых коммуникаций.\n",
            "\n",
            "\fNotice\n",
            "of making an entry into the \"Unified register of domain names, Internet web-site \n",
            "page links and network addresses enabling to identify the Internet web-sites \n",
            "containing the information prohibited for public distribution in the Russian \n",
            "Federation”.\n",
            "\n",
            "In accordance with No. 7 of Article 15.1. of the Federal Law dated 27.07.2006 \n",
            "No. 149-FZ \"On Information, Information Technologies and Information Protection\" we \n",
            "notify  you  that  on  the  basis  of  a  decision  of  Federal  Service  for  Supervision  in  the \n",
            "Sphere  of  Telecom,  Information  Technologies  and  Mass  Communications  dated \n",
            "31.08.2015  No  75779-URL-on    Internet  web-site  page  (s)  link  (s)  https://twitter.com/\n",
            "rppuppy/status/479642863857577984  was  (were)  included  in  the  \"Unified  register  of \n",
            "domain names, Internet web-site page links and network addresses enabling to identify \n",
            "the Internet web-sites containing the information prohibited for public distribution in the \n",
            "Russian  Federation\",  the  number  of  the  register  entry  is  76611-РИ  due  to  the  fact  that \n",
            "this information contains  data child pornography images and (or) announcements to involve \n",
            "juveniles to participate in pornographic entertainment performances as actors.\n",
            "\n",
            "Within 24 hours after receiving this notice it is necessary to inform about it your client, \n",
            "the owner of the revealed Internet web-site, and to notify him of the need to remove the \n",
            "information prohibited for distribution in the Russian Federation immediately. \n",
            "\n",
            "Within 24 hours after receiving from the hosting provider a notification of inclusion of \n",
            "the  domain  name  and  (or)  the  Internet  web-site  page  link  in  the  Register,  the  Internet \n",
            "website owner shall take measures to remove the information prohibited and (or) limit \n",
            "the access to the  Internet web-site containing information prohibited for distribution in \n",
            "the Russian Federation.\n",
            "\n",
            "In  case  the  Internet  web-site  owner  fails  to  fulfill  this  requirement  or  to  act \n",
            "appropriately, the hosting provider is required to limit an access to this Internet web-site \n",
            "within 24 hours. \n",
            "\n",
            "In  case  the  hosting  provider  and  (or)  the  Internet  web-site  owner  fail  to  take  these \n",
            "measures,  the  network  address  enabling  to  identify  Internet  web-sites  containing  the \n",
            "information prohibited for distribution in the Russian Federation will be decided to be \n",
            "entered into the Register and to be limited for access by operators.\n",
            "\n",
            "The  decision  about  entering  the  domain  names,  Internet  web-site  page  links  and \n",
            "network addresses enabling to identify the Internet web-sites containing the information \n",
            "prohibited for distribution in the Russian Federation can be appealed to a court by the \n",
            "owner of the Internet web-site, the hosting provider or the operator providing an access \n",
            "to the Internet data telecommunications network within three months from the date of \n",
            "taking such decision.\n",
            "\n",
            "\fThe  information  about  entering  the  domain  names,  Internet  web-site  page  links  and \n",
            "network  addresses  into  the  Register  shall  be  available  on  a  24-hour  basis  at  the \n",
            "following Internet address: http://eais.rkn.gov.ru/en/.\n",
            "\n",
            "This Notice is duly signed electronically by the Federal Service for Supervision in the \n",
            "Sphere of Telecom, Information Technologies and Mass Communications.\n",
            "\n",
            "\fПриложение\n",
            "\n",
            "\fОписание запрещенной информации:\n",
            "\n",
            "Информация, обнаруженная по указателю \n",
            "интернет-страницы https://twitter.com/\n",
            "MCinta69/status/630760349457780737\n",
            "\n",
            "https://twitter.com/Dejan_86/status/\n",
            "575287202415910913\n",
            "\n",
            "https://twitter.com/dorongdong_1234/status/\n",
            "632617042802249728\n",
            "\n",
            "https://twitter.com/KabochaSPICE/status/\n",
            "634549462174535680\n",
            "\n",
            "https://twitter.com/rppuppy/status/\n",
            "479642863857577984\n",
            "\n",
            "https://twitter.com/RobinUke2/status/\n",
            "636763252429615104\n",
            "\n",
            "https://twitter.com/Bane5Derrick/status/\n",
            "634392427571335169\n",
            "\n",
            "https://twitter.com/Titties_and_as\n",
            "\n",
            "https://twitter.com/lang0618/status/\n",
            "637632771825922049\n",
            "\n",
            "https://twitter.com/Hiyake_2D/status/\n",
            "633008920307494912\n",
            "\n",
            "https://twitter.com/normalPOSA/status/\n",
            "552093553971572737\n",
            "\n",
            "https://twitter.com/skrr111as/status/\n",
            "619704793573920768\n",
            "\n",
            "https://twitter.com/hentaidetodo/status/\n",
            "600895118984380416\n",
            "\n",
            "https://twitter.com/all_toon_porns/status/\n",
            "620633810179239937\n",
            "\n",
            "https://twitter.com/niziero0721/status/\n",
            "576410475925151744\n",
            "\n",
            "\f\f\n"
          ]
        }
      ]
    },
    {
      "cell_type": "markdown",
      "metadata": {
        "id": "9106d600"
      },
      "source": [
        "Import all rtfs and create a dataframe,"
      ],
      "id": "9106d600"
    },
    {
      "cell_type": "code",
      "metadata": {
        "scrolled": true,
        "id": "faf9d6ea"
      },
      "source": [
        "##Create dataframe from notices\n",
        "notices = []\n",
        "ids = []\n",
        "problems = []\n",
        "for subdir, dirs, files in os.walk(path):\n",
        "    for filename in files:\n",
        "        filepath = subdir + os.sep + filename\n",
        "\n",
        "        if filepath.endswith(\".rtf\"):\n",
        "            try:\n",
        "                rtf = open(filepath, encoding = \"utf-8\").read()\n",
        "                text = rtf_to_text(rtf) \n",
        "                ids.append(subdir)\n",
        "                notices.append(text)\n",
        "            except (UnicodeDecodeError, UnicodeEncodeError, AttributeError) as e:\n",
        "                problems.append(filepath)\n",
        "\n",
        "d = {'ID':ids,'Notices':notices}\n",
        "df = pd.DataFrame(d)\n",
        "df.to_csv('rtf.csv')"
      ],
      "id": "faf9d6ea",
      "execution_count": null,
      "outputs": []
    },
    {
      "cell_type": "code",
      "metadata": {
        "id": "ZLdnc4w2Ux66"
      },
      "source": [
        "#some of the pdf are images really"
      ],
      "id": "ZLdnc4w2Ux66",
      "execution_count": null,
      "outputs": []
    },
    {
      "cell_type": "code",
      "metadata": {
        "id": "Z0MERP_qPJjy"
      },
      "source": [
        "\n",
        "\n",
        "notices = []\n",
        "ids = []\n",
        "problems = []\n",
        "for subdir, dirs, files in os.walk(path):\n",
        "    for filename in files:\n",
        "        filepath = subdir + os.sep + filename\n",
        "\n",
        "        if filepath.endswith(\".pdf\"):\n",
        "          pdf = (filepath)\n",
        "          text = extract_text(pdf) \n",
        "          ids.append(subdir[-8:])#no idea of what is doing this line\n",
        "          notices.append(text)\n",
        "          \n",
        "\n",
        "foo = {'ID':ids,'Notices':notices}\n",
        "df2 = pd.DataFrame(foo)\n",
        "df2.to_csv('csv.csv')"
      ],
      "id": "Z0MERP_qPJjy",
      "execution_count": 36,
      "outputs": []
    },
    {
      "cell_type": "markdown",
      "metadata": {
        "id": "2e4ad34a"
      },
      "source": [
        "**To do for Fabio, import all pdfs as well and append to the dataframe we have, you can use the outerloop just changing the if statement to have .endwith(\".pdf\") and then using the library pdfminer (https://pypi.org/project/pdfminer/), I didn't have time to try this. Don't spend too much time on it, you can move onto NLP with what we have, I can try to figure out importing pdf tomorrow if needed."
      ],
      "id": "2e4ad34a"
    },
    {
      "cell_type": "markdown",
      "metadata": {
        "id": "791246c5"
      },
      "source": [
        "The ID column in df correspond to the ID in the JSON file"
      ],
      "id": "791246c5"
    },
    {
      "cell_type": "code",
      "metadata": {
        "id": "6wkgL602sQC3",
        "outputId": "b9347c10-2b62-4843-b9e8-a15a49734306",
        "colab": {
          "base_uri": "https://localhost:8080/",
          "height": 35
        }
      },
      "source": [
        "url='https://doc-04-9c-docs.googleusercontent.com/docs/securesc/1qg2cdaujo3joh5go46snq7f8roq2hpm/6pkmh30bchg18bendg9rb5kg46tfnahb/1634984775000/10565084872363064704/10565084872363064704/10H32wf70nBFdwlqKvU_7my3BBPc8LDuv?e=download&authuser=0'\n",
        "output = 'csv.csv'\n",
        "gdown.download(url, output, quiet=True)"
      ],
      "id": "6wkgL602sQC3",
      "execution_count": 33,
      "outputs": [
        {
          "output_type": "execute_result",
          "data": {
            "application/vnd.google.colaboratory.intrinsic+json": {
              "type": "string"
            },
            "text/plain": [
              "'csv.csv'"
            ]
          },
          "metadata": {},
          "execution_count": 33
        }
      ]
    },
    {
      "cell_type": "code",
      "metadata": {
        "id": "D6ngo5kYsvOA",
        "outputId": "5e1017ee-a9e6-4a4a-c68c-68f5779a4c7b",
        "colab": {
          "base_uri": "https://localhost:8080/",
          "height": 106
        }
      },
      "source": [
        "\n",
        "\n"
      ],
      "id": "D6ngo5kYsvOA",
      "execution_count": 40,
      "outputs": [
        {
          "output_type": "stream",
          "name": "stderr",
          "text": [
            "Downloading...\n",
            "From: https://drive.google.com/u/0/uc?id=10H32wf70nBFdwlqKvU_7my3BBPc8LDuv&export=download\n",
            "To: /content/csv.csv\n",
            "100%|██████████| 54.6M/54.6M [00:00<00:00, 94.6MB/s]\n"
          ]
        },
        {
          "output_type": "execute_result",
          "data": {
            "application/vnd.google.colaboratory.intrinsic+json": {
              "type": "string"
            },
            "text/plain": [
              "'csv.csv'"
            ]
          },
          "metadata": {},
          "execution_count": 40
        }
      ]
    }
  ]
}